{
 "cells": [
  {
   "cell_type": "markdown",
   "id": "421fe9ec",
   "metadata": {},
   "source": [
    "# Daily Coding Problem 29"
   ]
  },
  {
   "cell_type": "raw",
   "id": "e51be922",
   "metadata": {},
   "source": [
    "This problem was asked by Amazon.\n",
    "\n",
    "Run-length encoding is a fast and simple method of encoding strings. The basic idea is to represent repeated successive characters as a single count and character. For example, the string \"AAAABBBCCDAA\" would be encoded as \"4A3B2C1D2A\".\n",
    "\n",
    "Implement run-length encoding and decoding. You can assume the string to be encoded have no digits and consists solely of alphabetic characters. You can assume the string to be decoded is valid."
   ]
  },
  {
   "cell_type": "markdown",
   "id": "8b6f0152",
   "metadata": {},
   "source": [
    "# Solution\n",
    "\n",
    "We can implement encode by iterating over our input string and keeping a current count of whatever the current character is, and once we encounter a different one, appending the count (as a string) and the actual character to our result string."
   ]
  },
  {
   "cell_type": "code",
   "execution_count": 15,
   "id": "dfe78c62",
   "metadata": {},
   "outputs": [
    {
     "name": "stdout",
     "output_type": "stream",
     "text": [
      "4A3B2C1D2A\n"
     ]
    }
   ],
   "source": [
    "def encode(s):\n",
    "    if not s:\n",
    "        return ''\n",
    "\n",
    "    result = ''\n",
    "    current_char = s[0]\n",
    "    current_count = 1\n",
    "    for i, char in enumerate(s, 1):\n",
    "        if char == current_char:\n",
    "            current_count += 1\n",
    "        else:\n",
    "            result += str(current_count) + current_char\n",
    "            current_char = char\n",
    "            current_count = 1\n",
    "    result += str(current_count) + current_char\n",
    "    return result\n",
    "print(encode('AAABBBCCDAA'))"
   ]
  },
  {
   "cell_type": "markdown",
   "id": "08c74309",
   "metadata": {},
   "source": [
    "We can implement decode by iterating over the encoded string and checking each character for a digit. If it is, then calculate the correct count, and once we find its corresponding character, extend the result with the character count number of times and then reset the count."
   ]
  },
  {
   "cell_type": "code",
   "execution_count": 6,
   "id": "e0cea574",
   "metadata": {},
   "outputs": [
    {
     "name": "stdout",
     "output_type": "stream",
     "text": [
      "AAAABBBCCDAA\n"
     ]
    }
   ],
   "source": [
    "def decode(s):\n",
    "    count = 0\n",
    "    result = ''\n",
    "    for char in s:\n",
    "        if char.isdigit():\n",
    "            count = count * 10 + int(char)\n",
    "        else:\n",
    "            # char is alphabetic\n",
    "            result += char * count\n",
    "            count = 0\n",
    "    return result\n",
    "print(decode(\"4A3B2C1D2A\"))"
   ]
  },
  {
   "cell_type": "code",
   "execution_count": null,
   "id": "959e76c5",
   "metadata": {},
   "outputs": [],
   "source": []
  }
 ],
 "metadata": {
  "kernelspec": {
   "display_name": "Python 3 (ipykernel)",
   "language": "python",
   "name": "python3"
  },
  "language_info": {
   "codemirror_mode": {
    "name": "ipython",
    "version": 3
   },
   "file_extension": ".py",
   "mimetype": "text/x-python",
   "name": "python",
   "nbconvert_exporter": "python",
   "pygments_lexer": "ipython3",
   "version": "3.8.10"
  }
 },
 "nbformat": 4,
 "nbformat_minor": 5
}
